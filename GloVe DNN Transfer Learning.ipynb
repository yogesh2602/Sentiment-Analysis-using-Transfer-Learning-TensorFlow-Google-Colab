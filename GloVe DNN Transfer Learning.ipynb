{
 "cells": [
  {
   "cell_type": "markdown",
   "metadata": {},
   "source": [
    "### Importing Libraries"
   ]
  },
  {
   "cell_type": "code",
   "execution_count": 0,
   "metadata": {
    "colab": {},
    "colab_type": "code",
    "id": "hmA6EzkQJ5jt"
   },
   "outputs": [],
   "source": [
    "import json\n",
    "import tensorflow as tf\n",
    "import csv\n",
    "import random\n",
    "import numpy as np\n",
    "from tensorflow.keras.preprocessing.text import Tokenizer\n",
    "from tensorflow.keras.preprocessing.sequence import pad_sequences\n",
    "from tensorflow.keras.utils import to_categorical\n",
    "from tensorflow.keras import regularizers\n",
    "import pandas as pd"
   ]
  },
  {
   "cell_type": "markdown",
   "metadata": {},
   "source": [
    "### Defining global variables"
   ]
  },
  {
   "cell_type": "code",
   "execution_count": null,
   "metadata": {},
   "outputs": [],
   "source": [
    "embedding_dim = 100\n",
    "max_length = 16\n",
    "trunc_type='post'\n",
    "padding_type='post'\n",
    "oov_tok = \"<OOV>\"\n",
    "training_size=1599999  #dataset size\n",
    "test_portion=.1\n",
    "\n",
    "corpus = []"
   ]
  },
  {
   "cell_type": "markdown",
   "metadata": {},
   "source": [
    "### Downloading the data"
   ]
  },
  {
   "cell_type": "code",
   "execution_count": 46,
   "metadata": {
    "colab": {
     "base_uri": "https://localhost:8080/",
     "height": 202
    },
    "colab_type": "code",
    "id": "GOhquGvVO7en",
    "outputId": "447859d4-f868-4e28-9030-ae290677ae30"
   },
   "outputs": [
    {
     "name": "stdout",
     "output_type": "stream",
     "text": [
      "--2020-06-03 00:14:46--  https://storage.googleapis.com/laurencemoroney-blog.appspot.com/training_cleaned.csv\n",
      "Resolving storage.googleapis.com (storage.googleapis.com)... 74.125.24.128, 2404:6800:4003:c03::80\n",
      "Connecting to storage.googleapis.com (storage.googleapis.com)|74.125.24.128|:443... connected.\n",
      "HTTP request sent, awaiting response... 200 OK\n",
      "Length: 238942690 (228M) [application/octet-stream]\n",
      "Saving to: ‘/tmp/training_cleaned.csv’\n",
      "\n",
      "/tmp/training_clean 100%[===================>] 227.87M  68.7MB/s    in 3.3s    \n",
      "\n",
      "2020-06-03 00:14:50 (68.7 MB/s) - ‘/tmp/training_cleaned.csv’ saved [238942690/238942690]\n",
      "\n"
     ]
    }
   ],
   "source": [
    "!wget --no-check-certificate \\\n",
    "    https://storage.googleapis.com/laurencemoroney-blog.appspot.com/training_cleaned.csv \\\n",
    "    -O /tmp/training_cleaned.csv"
   ]
  },
  {
   "cell_type": "markdown",
   "metadata": {},
   "source": [
    "### Transforming the original data for Modeling"
   ]
  },
  {
   "cell_type": "code",
   "execution_count": 0,
   "metadata": {
    "colab": {},
    "colab_type": "code",
    "id": "4TKhQltpO7j2"
   },
   "outputs": [],
   "source": [
    "df=pd.read_csv('/tmp/training_cleaned.csv')"
   ]
  },
  {
   "cell_type": "code",
   "execution_count": 49,
   "metadata": {
    "colab": {
     "base_uri": "https://localhost:8080/",
     "height": 296
    },
    "colab_type": "code",
    "id": "vBh0vARFPZ19",
    "outputId": "d04289fd-bd37-4542-9e07-97bf07975ae5"
   },
   "outputs": [
    {
     "data": {
      "text/html": [
       "<div>\n",
       "<style scoped>\n",
       "    .dataframe tbody tr th:only-of-type {\n",
       "        vertical-align: middle;\n",
       "    }\n",
       "\n",
       "    .dataframe tbody tr th {\n",
       "        vertical-align: top;\n",
       "    }\n",
       "\n",
       "    .dataframe thead th {\n",
       "        text-align: right;\n",
       "    }\n",
       "</style>\n",
       "<table border=\"1\" class=\"dataframe\">\n",
       "  <thead>\n",
       "    <tr style=\"text-align: right;\">\n",
       "      <th></th>\n",
       "      <th>0</th>\n",
       "      <th>1467810369</th>\n",
       "      <th>Mon Apr 06 22:19:45 PDT 2009</th>\n",
       "      <th>NO_QUERY</th>\n",
       "      <th>_TheSpecialOne_</th>\n",
       "      <th>@switchfoot http://twitpic.com/2y1zl - Awww, that's a bummer.  You shoulda got David Carr of Third Day to do it. ;D</th>\n",
       "    </tr>\n",
       "  </thead>\n",
       "  <tbody>\n",
       "    <tr>\n",
       "      <th>0</th>\n",
       "      <td>0</td>\n",
       "      <td>1467810672</td>\n",
       "      <td>Mon Apr 06 22:19:49 PDT 2009</td>\n",
       "      <td>NO_QUERY</td>\n",
       "      <td>scotthamilton</td>\n",
       "      <td>is upset that he can't update his Facebook by ...</td>\n",
       "    </tr>\n",
       "    <tr>\n",
       "      <th>1</th>\n",
       "      <td>0</td>\n",
       "      <td>1467810917</td>\n",
       "      <td>Mon Apr 06 22:19:53 PDT 2009</td>\n",
       "      <td>NO_QUERY</td>\n",
       "      <td>mattycus</td>\n",
       "      <td>@Kenichan I dived many times for the ball. Man...</td>\n",
       "    </tr>\n",
       "    <tr>\n",
       "      <th>2</th>\n",
       "      <td>0</td>\n",
       "      <td>1467811184</td>\n",
       "      <td>Mon Apr 06 22:19:57 PDT 2009</td>\n",
       "      <td>NO_QUERY</td>\n",
       "      <td>ElleCTF</td>\n",
       "      <td>my whole body feels itchy and like its on fire</td>\n",
       "    </tr>\n",
       "    <tr>\n",
       "      <th>3</th>\n",
       "      <td>0</td>\n",
       "      <td>1467811193</td>\n",
       "      <td>Mon Apr 06 22:19:57 PDT 2009</td>\n",
       "      <td>NO_QUERY</td>\n",
       "      <td>Karoli</td>\n",
       "      <td>@nationwideclass no, it's not behaving at all....</td>\n",
       "    </tr>\n",
       "    <tr>\n",
       "      <th>4</th>\n",
       "      <td>0</td>\n",
       "      <td>1467811372</td>\n",
       "      <td>Mon Apr 06 22:20:00 PDT 2009</td>\n",
       "      <td>NO_QUERY</td>\n",
       "      <td>joy_wolf</td>\n",
       "      <td>@Kwesidei not the whole crew</td>\n",
       "    </tr>\n",
       "  </tbody>\n",
       "</table>\n",
       "</div>"
      ],
      "text/plain": [
       "   0  ...  @switchfoot http://twitpic.com/2y1zl - Awww, that's a bummer.  You shoulda got David Carr of Third Day to do it. ;D\n",
       "0  0  ...  is upset that he can't update his Facebook by ...                                                                  \n",
       "1  0  ...  @Kenichan I dived many times for the ball. Man...                                                                  \n",
       "2  0  ...    my whole body feels itchy and like its on fire                                                                   \n",
       "3  0  ...  @nationwideclass no, it's not behaving at all....                                                                  \n",
       "4  0  ...                      @Kwesidei not the whole crew                                                                   \n",
       "\n",
       "[5 rows x 6 columns]"
      ]
     },
     "execution_count": 49,
     "metadata": {
      "tags": []
     },
     "output_type": "execute_result"
    }
   ],
   "source": [
    "df.head()"
   ]
  },
  {
   "cell_type": "code",
   "execution_count": 0,
   "metadata": {
    "colab": {},
    "colab_type": "code",
    "id": "4Ks0qD2XPcDM"
   },
   "outputs": [],
   "source": [
    "df.rename(columns={\"0\":\"labels\",\"@switchfoot http://twitpic.com/2y1zl - Awww, that's a bummer.  You shoulda got David Carr of Third Day to do it. ;D\":\"sentences\"},inplace=True)"
   ]
  },
  {
   "cell_type": "code",
   "execution_count": 0,
   "metadata": {
    "colab": {},
    "colab_type": "code",
    "id": "IBdbhg1NQbqi"
   },
   "outputs": [],
   "source": [
    "df['labels']=np.where(df.labels!=0,1,0)"
   ]
  },
  {
   "cell_type": "code",
   "execution_count": 0,
   "metadata": {
    "colab": {},
    "colab_type": "code",
    "id": "flWmVuu2P9B1"
   },
   "outputs": [],
   "source": [
    "df['sentence_labels']=df['sentences'].str.cat(df['labels'].astype(str),sep=\",\")"
   ]
  },
  {
   "cell_type": "code",
   "execution_count": 53,
   "metadata": {
    "colab": {
     "base_uri": "https://localhost:8080/",
     "height": 296
    },
    "colab_type": "code",
    "id": "D6m5MI3TQqez",
    "outputId": "9bbe1745-8319-41fe-be35-378582b060c1"
   },
   "outputs": [
    {
     "data": {
      "text/html": [
       "<div>\n",
       "<style scoped>\n",
       "    .dataframe tbody tr th:only-of-type {\n",
       "        vertical-align: middle;\n",
       "    }\n",
       "\n",
       "    .dataframe tbody tr th {\n",
       "        vertical-align: top;\n",
       "    }\n",
       "\n",
       "    .dataframe thead th {\n",
       "        text-align: right;\n",
       "    }\n",
       "</style>\n",
       "<table border=\"1\" class=\"dataframe\">\n",
       "  <thead>\n",
       "    <tr style=\"text-align: right;\">\n",
       "      <th></th>\n",
       "      <th>labels</th>\n",
       "      <th>1467810369</th>\n",
       "      <th>Mon Apr 06 22:19:45 PDT 2009</th>\n",
       "      <th>NO_QUERY</th>\n",
       "      <th>_TheSpecialOne_</th>\n",
       "      <th>sentences</th>\n",
       "      <th>sentence_labels</th>\n",
       "    </tr>\n",
       "  </thead>\n",
       "  <tbody>\n",
       "    <tr>\n",
       "      <th>0</th>\n",
       "      <td>0</td>\n",
       "      <td>1467810672</td>\n",
       "      <td>Mon Apr 06 22:19:49 PDT 2009</td>\n",
       "      <td>NO_QUERY</td>\n",
       "      <td>scotthamilton</td>\n",
       "      <td>is upset that he can't update his Facebook by ...</td>\n",
       "      <td>is upset that he can't update his Facebook by ...</td>\n",
       "    </tr>\n",
       "    <tr>\n",
       "      <th>1</th>\n",
       "      <td>0</td>\n",
       "      <td>1467810917</td>\n",
       "      <td>Mon Apr 06 22:19:53 PDT 2009</td>\n",
       "      <td>NO_QUERY</td>\n",
       "      <td>mattycus</td>\n",
       "      <td>@Kenichan I dived many times for the ball. Man...</td>\n",
       "      <td>@Kenichan I dived many times for the ball. Man...</td>\n",
       "    </tr>\n",
       "    <tr>\n",
       "      <th>2</th>\n",
       "      <td>0</td>\n",
       "      <td>1467811184</td>\n",
       "      <td>Mon Apr 06 22:19:57 PDT 2009</td>\n",
       "      <td>NO_QUERY</td>\n",
       "      <td>ElleCTF</td>\n",
       "      <td>my whole body feels itchy and like its on fire</td>\n",
       "      <td>my whole body feels itchy and like its on fire ,0</td>\n",
       "    </tr>\n",
       "    <tr>\n",
       "      <th>3</th>\n",
       "      <td>0</td>\n",
       "      <td>1467811193</td>\n",
       "      <td>Mon Apr 06 22:19:57 PDT 2009</td>\n",
       "      <td>NO_QUERY</td>\n",
       "      <td>Karoli</td>\n",
       "      <td>@nationwideclass no, it's not behaving at all....</td>\n",
       "      <td>@nationwideclass no, it's not behaving at all....</td>\n",
       "    </tr>\n",
       "    <tr>\n",
       "      <th>4</th>\n",
       "      <td>0</td>\n",
       "      <td>1467811372</td>\n",
       "      <td>Mon Apr 06 22:20:00 PDT 2009</td>\n",
       "      <td>NO_QUERY</td>\n",
       "      <td>joy_wolf</td>\n",
       "      <td>@Kwesidei not the whole crew</td>\n",
       "      <td>@Kwesidei not the whole crew ,0</td>\n",
       "    </tr>\n",
       "  </tbody>\n",
       "</table>\n",
       "</div>"
      ],
      "text/plain": [
       "   labels  ...                                    sentence_labels\n",
       "0       0  ...  is upset that he can't update his Facebook by ...\n",
       "1       0  ...  @Kenichan I dived many times for the ball. Man...\n",
       "2       0  ...  my whole body feels itchy and like its on fire ,0\n",
       "3       0  ...  @nationwideclass no, it's not behaving at all....\n",
       "4       0  ...                    @Kwesidei not the whole crew ,0\n",
       "\n",
       "[5 rows x 7 columns]"
      ]
     },
     "execution_count": 53,
     "metadata": {
      "tags": []
     },
     "output_type": "execute_result"
    }
   ],
   "source": [
    "df.head()"
   ]
  },
  {
   "cell_type": "code",
   "execution_count": 0,
   "metadata": {
    "colab": {},
    "colab_type": "code",
    "id": "ezuE6S2qRCYM"
   },
   "outputs": [],
   "source": [
    "corpus=df['sentence_labels'].to_list()"
   ]
  },
  {
   "cell_type": "code",
   "execution_count": 55,
   "metadata": {
    "colab": {
     "base_uri": "https://localhost:8080/",
     "height": 50
    },
    "colab_type": "code",
    "id": "3kxblBUjEUX-",
    "outputId": "cc4d5cf8-a86e-4993-d34c-0b625af4c071"
   },
   "outputs": [
    {
     "name": "stdout",
     "output_type": "stream",
     "text": [
      "1599999\n",
      "is upset that he can't update his Facebook by texting it... and might cry as a result  School today also. Blah!,0\n"
     ]
    }
   ],
   "source": [
    "print(len(corpus))\n",
    "print(corpus[0])\n"
   ]
  },
  {
   "cell_type": "markdown",
   "metadata": {},
   "source": [
    "### Tokenizing the words, creating text sequences and adding padding to the sentences to have input of equal lenghts"
   ]
  },
  {
   "cell_type": "code",
   "execution_count": 0,
   "metadata": {
    "colab": {},
    "colab_type": "code",
    "id": "ohOGz24lsNAD"
   },
   "outputs": [],
   "source": [
    "sentences=[]\n",
    "labels=[]\n",
    "random.shuffle(corpus)\n",
    "for x in range(training_size):\n",
    "    sentences.append(corpus[x][:-2])\n",
    "    labels.append(int(corpus[x][-1]))\n",
    "\n",
    "\n",
    "tokenizer = Tokenizer()\n",
    "tokenizer.fit_on_texts(sentences)\n",
    "\n",
    "word_index = tokenizer.word_index\n",
    "vocab_size=len(word_index)\n",
    "\n",
    "sequences = tokenizer.texts_to_sequences(sentences)\n",
    "padded = pad_sequences(sequences, maxlen=max_length, padding=padding_type, truncating=trunc_type)\n",
    "\n",
    "split = int(test_portion * training_size)\n",
    "\n",
    "test_sequences = padded[0:split]\n",
    "training_sequences = padded[split:training_size]\n",
    "test_labels = np.array(labels[0:split])\n",
    "training_labels = np.array(labels[split:training_size])"
   ]
  },
  {
   "cell_type": "code",
   "execution_count": 58,
   "metadata": {
    "colab": {
     "base_uri": "https://localhost:8080/",
     "height": 50
    },
    "colab_type": "code",
    "id": "gIrtRem1En3N",
    "outputId": "45036ded-77f7-491e-f47d-0ccb6aa29d2c"
   },
   "outputs": [
    {
     "name": "stdout",
     "output_type": "stream",
     "text": [
      "690959\n",
      "1\n"
     ]
    }
   ],
   "source": [
    "print(vocab_size)\n",
    "print(word_index['i'])\n",
    "# Expected Output\n",
    "# 138858\n",
    "# 1"
   ]
  },
  {
   "cell_type": "markdown",
   "metadata": {},
   "source": [
    "### # Using the 100 dimension version of GloVe from Stanford"
   ]
  },
  {
   "cell_type": "code",
   "execution_count": 59,
   "metadata": {
    "colab": {
     "base_uri": "https://localhost:8080/",
     "height": 202
    },
    "colab_type": "code",
    "id": "C1zdgJkusRh0",
    "outputId": "c0f370a4-f3b1-44f5-c5e5-54f4b8a18d94"
   },
   "outputs": [
    {
     "name": "stdout",
     "output_type": "stream",
     "text": [
      "--2020-06-03 00:16:20--  https://storage.googleapis.com/laurencemoroney-blog.appspot.com/glove.6B.100d.txt\n",
      "Resolving storage.googleapis.com (storage.googleapis.com)... 74.125.68.128, 2404:6800:4003:c02::80\n",
      "Connecting to storage.googleapis.com (storage.googleapis.com)|74.125.68.128|:443... connected.\n",
      "HTTP request sent, awaiting response... 200 OK\n",
      "Length: 347116733 (331M) [text/plain]\n",
      "Saving to: ‘/tmp/glove.6B.100d.txt’\n",
      "\n",
      "/tmp/glove.6B.100d. 100%[===================>] 331.04M   119MB/s    in 2.8s    \n",
      "\n",
      "2020-06-03 00:16:23 (119 MB/s) - ‘/tmp/glove.6B.100d.txt’ saved [347116733/347116733]\n",
      "\n"
     ]
    }
   ],
   "source": [
    "\n",
    "!wget --no-check-certificate \\\n",
    "    https://storage.googleapis.com/laurencemoroney-blog.appspot.com/glove.6B.100d.txt \\\n",
    "    -O /tmp/glove.6B.100d.txt\n",
    "embeddings_index = {};\n",
    "with open('/tmp/glove.6B.100d.txt') as f:\n",
    "    for line in f:\n",
    "        values = line.split();\n",
    "        word = values[0];\n",
    "        coefs = np.asarray(values[1:], dtype='float32');\n",
    "        embeddings_index[word] = coefs;\n",
    "\n",
    "embeddings_matrix = np.zeros((vocab_size+1, embedding_dim));\n",
    "for word, i in word_index.items():\n",
    "    embedding_vector = embeddings_index.get(word);\n",
    "    if embedding_vector is not None:\n",
    "        embeddings_matrix[i] = embedding_vector;"
   ]
  },
  {
   "cell_type": "code",
   "execution_count": 60,
   "metadata": {
    "colab": {
     "base_uri": "https://localhost:8080/",
     "height": 34
    },
    "colab_type": "code",
    "id": "71NLk_lpFLNt",
    "outputId": "3016b71e-e9fb-421b-8cb0-4efe59080567"
   },
   "outputs": [
    {
     "name": "stdout",
     "output_type": "stream",
     "text": [
      "690960\n"
     ]
    }
   ],
   "source": [
    "print(len(embeddings_matrix))"
   ]
  },
  {
   "cell_type": "markdown",
   "metadata": {},
   "source": [
    "### Creating Neural network with Embedding, LSTM and Dense Layers."
   ]
  },
  {
   "cell_type": "code",
   "execution_count": 61,
   "metadata": {
    "colab": {
     "base_uri": "https://localhost:8080/",
     "height": 319
    },
    "colab_type": "code",
    "id": "iKKvbuEBOGFz",
    "outputId": "9a933f1c-f359-4d06-b015-56b991349948"
   },
   "outputs": [
    {
     "name": "stdout",
     "output_type": "stream",
     "text": [
      "Model: \"sequential_4\"\n",
      "_________________________________________________________________\n",
      "Layer (type)                 Output Shape              Param #   \n",
      "=================================================================\n",
      "embedding_4 (Embedding)      (None, 16, 100)           69096000  \n",
      "_________________________________________________________________\n",
      "bidirectional_6 (Bidirection (None, 16, 128)           84480     \n",
      "_________________________________________________________________\n",
      "bidirectional_7 (Bidirection (None, 64)                41216     \n",
      "_________________________________________________________________\n",
      "dense_8 (Dense)              (None, 128)               8320      \n",
      "_________________________________________________________________\n",
      "dense_9 (Dense)              (None, 1)                 129       \n",
      "=================================================================\n",
      "Total params: 69,230,145\n",
      "Trainable params: 134,145\n",
      "Non-trainable params: 69,096,000\n",
      "_________________________________________________________________\n"
     ]
    }
   ],
   "source": [
    "model = tf.keras.Sequential([\n",
    "    tf.keras.layers.Embedding(vocab_size+1, embedding_dim, input_length=max_length, weights=[embeddings_matrix], trainable=False),\n",
    "    tf.keras.layers.Bidirectional(tf.keras.layers.LSTM(64, return_sequences=True)),\n",
    "    tf.keras.layers.Bidirectional(tf.keras.layers.LSTM(32)),\n",
    "    tf.keras.layers.Dense(128, activation='relu'),\n",
    "    tf.keras.layers.Dense(1, activation='sigmoid')\n",
    "])\n",
    "model.compile(loss='binary_crossentropy',optimizer='adam',metrics=['accuracy'])\n",
    "model.summary()"
   ]
  },
  {
   "cell_type": "code",
   "execution_count": 62,
   "metadata": {
    "colab": {
     "base_uri": "https://localhost:8080/",
     "height": 1000
    },
    "colab_type": "code",
    "id": "iHWiGPBKYwby",
    "outputId": "2a95deb0-2547-4fd5-b3a9-659a0dc02e0d"
   },
   "outputs": [
    {
     "name": "stdout",
     "output_type": "stream",
     "text": [
      "Epoch 1/50\n",
      "45000/45000 - 369s - loss: 0.4585 - accuracy: 0.7800 - val_loss: 0.4314 - val_accuracy: 0.7970\n",
      "Epoch 2/50\n",
      "45000/45000 - 364s - loss: 0.4189 - accuracy: 0.8046 - val_loss: 0.4178 - val_accuracy: 0.8057\n",
      "Epoch 3/50\n",
      "45000/45000 - 363s - loss: 0.4050 - accuracy: 0.8128 - val_loss: 0.4170 - val_accuracy: 0.8052\n",
      "Epoch 4/50\n",
      "45000/45000 - 363s - loss: 0.3959 - accuracy: 0.8178 - val_loss: 0.4148 - val_accuracy: 0.8075\n",
      "Epoch 5/50\n",
      "45000/45000 - 363s - loss: 0.3887 - accuracy: 0.8219 - val_loss: 0.4144 - val_accuracy: 0.8086\n",
      "Epoch 6/50\n",
      "45000/45000 - 363s - loss: 0.3827 - accuracy: 0.8252 - val_loss: 0.4179 - val_accuracy: 0.8062\n",
      "Epoch 7/50\n",
      "45000/45000 - 364s - loss: 0.3777 - accuracy: 0.8280 - val_loss: 0.4219 - val_accuracy: 0.8061\n",
      "Epoch 8/50\n",
      "45000/45000 - 364s - loss: 0.3735 - accuracy: 0.8299 - val_loss: 0.4205 - val_accuracy: 0.8065\n",
      "Epoch 9/50\n",
      "45000/45000 - 363s - loss: 0.3700 - accuracy: 0.8322 - val_loss: 0.4241 - val_accuracy: 0.8059\n",
      "Epoch 10/50\n",
      "45000/45000 - 362s - loss: 0.3666 - accuracy: 0.8338 - val_loss: 0.4196 - val_accuracy: 0.8045\n",
      "Epoch 11/50\n",
      "45000/45000 - 363s - loss: 0.3638 - accuracy: 0.8355 - val_loss: 0.4288 - val_accuracy: 0.8045\n",
      "Epoch 12/50\n",
      "45000/45000 - 367s - loss: 0.3616 - accuracy: 0.8366 - val_loss: 0.4276 - val_accuracy: 0.8043\n",
      "Epoch 13/50\n",
      "45000/45000 - 364s - loss: 0.3593 - accuracy: 0.8378 - val_loss: 0.4309 - val_accuracy: 0.8035\n",
      "Epoch 14/50\n",
      "45000/45000 - 363s - loss: 0.3575 - accuracy: 0.8387 - val_loss: 0.4290 - val_accuracy: 0.8038\n",
      "Epoch 15/50\n",
      "45000/45000 - 362s - loss: 0.3555 - accuracy: 0.8397 - val_loss: 0.4329 - val_accuracy: 0.8024\n",
      "Epoch 16/50\n",
      "45000/45000 - 362s - loss: 0.3541 - accuracy: 0.8405 - val_loss: 0.4341 - val_accuracy: 0.8017\n",
      "Epoch 17/50\n",
      "45000/45000 - 361s - loss: 0.3531 - accuracy: 0.8410 - val_loss: 0.4330 - val_accuracy: 0.8020\n",
      "Epoch 18/50\n",
      "45000/45000 - 363s - loss: 0.3517 - accuracy: 0.8418 - val_loss: 0.4374 - val_accuracy: 0.8010\n",
      "Epoch 19/50\n",
      "45000/45000 - 363s - loss: 0.3507 - accuracy: 0.8423 - val_loss: 0.4380 - val_accuracy: 0.8020\n",
      "Epoch 20/50\n",
      "45000/45000 - 363s - loss: 0.3499 - accuracy: 0.8428 - val_loss: 0.4394 - val_accuracy: 0.8017\n",
      "Epoch 21/50\n",
      "45000/45000 - 362s - loss: 0.3489 - accuracy: 0.8431 - val_loss: 0.4406 - val_accuracy: 0.8018\n",
      "Epoch 22/50\n",
      "45000/45000 - 364s - loss: 0.3480 - accuracy: 0.8436 - val_loss: 0.4416 - val_accuracy: 0.8009\n",
      "Epoch 23/50\n",
      "45000/45000 - 363s - loss: 0.3472 - accuracy: 0.8442 - val_loss: 0.4434 - val_accuracy: 0.8008\n",
      "Epoch 24/50\n",
      "45000/45000 - 368s - loss: 0.3467 - accuracy: 0.8441 - val_loss: 0.4416 - val_accuracy: 0.8002\n",
      "Epoch 25/50\n",
      "45000/45000 - 366s - loss: 0.3457 - accuracy: 0.8447 - val_loss: 0.4414 - val_accuracy: 0.7993\n",
      "Epoch 26/50\n",
      "45000/45000 - 365s - loss: 0.3451 - accuracy: 0.8449 - val_loss: 0.4423 - val_accuracy: 0.8002\n",
      "Epoch 27/50\n",
      "45000/45000 - 363s - loss: 0.3446 - accuracy: 0.8452 - val_loss: 0.4412 - val_accuracy: 0.7999\n",
      "Epoch 28/50\n",
      "45000/45000 - 365s - loss: 0.3444 - accuracy: 0.8456 - val_loss: 0.4442 - val_accuracy: 0.7998\n",
      "Epoch 29/50\n",
      "45000/45000 - 365s - loss: 0.3438 - accuracy: 0.8456 - val_loss: 0.4412 - val_accuracy: 0.8005\n",
      "Epoch 30/50\n",
      "45000/45000 - 365s - loss: 0.3437 - accuracy: 0.8458 - val_loss: 0.4455 - val_accuracy: 0.7998\n",
      "Epoch 31/50\n",
      "45000/45000 - 364s - loss: 0.3429 - accuracy: 0.8462 - val_loss: 0.4449 - val_accuracy: 0.7985\n",
      "Epoch 32/50\n",
      "45000/45000 - 364s - loss: 0.3430 - accuracy: 0.8461 - val_loss: 0.4494 - val_accuracy: 0.7995\n",
      "Epoch 33/50\n",
      "45000/45000 - 365s - loss: 0.3423 - accuracy: 0.8466 - val_loss: 0.4514 - val_accuracy: 0.7985\n",
      "Epoch 34/50\n",
      "45000/45000 - 363s - loss: 0.3417 - accuracy: 0.8469 - val_loss: 0.4463 - val_accuracy: 0.7985\n",
      "Epoch 35/50\n",
      "45000/45000 - 363s - loss: 0.3417 - accuracy: 0.8469 - val_loss: 0.4467 - val_accuracy: 0.7987\n",
      "Epoch 36/50\n",
      "45000/45000 - 363s - loss: 0.3411 - accuracy: 0.8471 - val_loss: 0.4514 - val_accuracy: 0.7980\n",
      "Epoch 37/50\n",
      "45000/45000 - 363s - loss: 0.3410 - accuracy: 0.8470 - val_loss: 0.4528 - val_accuracy: 0.7982\n",
      "Epoch 38/50\n",
      "45000/45000 - 362s - loss: 0.3407 - accuracy: 0.8473 - val_loss: 0.4439 - val_accuracy: 0.7980\n",
      "Epoch 39/50\n",
      "45000/45000 - 369s - loss: 0.3401 - accuracy: 0.8477 - val_loss: 0.4536 - val_accuracy: 0.7976\n",
      "Epoch 40/50\n",
      "45000/45000 - 368s - loss: 0.3400 - accuracy: 0.8480 - val_loss: 0.4500 - val_accuracy: 0.7979\n",
      "Epoch 41/50\n",
      "45000/45000 - 363s - loss: 0.3401 - accuracy: 0.8477 - val_loss: 0.4496 - val_accuracy: 0.7987\n",
      "Epoch 42/50\n",
      "45000/45000 - 364s - loss: 0.3395 - accuracy: 0.8480 - val_loss: 0.4547 - val_accuracy: 0.7974\n",
      "Epoch 43/50\n",
      "45000/45000 - 364s - loss: 0.3388 - accuracy: 0.8481 - val_loss: 0.4525 - val_accuracy: 0.7981\n",
      "Epoch 44/50\n",
      "45000/45000 - 369s - loss: 0.3390 - accuracy: 0.8481 - val_loss: 0.4532 - val_accuracy: 0.7973\n",
      "Epoch 45/50\n",
      "45000/45000 - 365s - loss: 0.3389 - accuracy: 0.8482 - val_loss: 0.4502 - val_accuracy: 0.7979\n",
      "Epoch 46/50\n",
      "45000/45000 - 362s - loss: 0.3387 - accuracy: 0.8486 - val_loss: 0.4560 - val_accuracy: 0.7980\n",
      "Epoch 47/50\n",
      "45000/45000 - 363s - loss: 0.3387 - accuracy: 0.8485 - val_loss: 0.4520 - val_accuracy: 0.7972\n",
      "Epoch 48/50\n",
      "45000/45000 - 363s - loss: 0.3386 - accuracy: 0.8485 - val_loss: 0.4571 - val_accuracy: 0.7967\n",
      "Epoch 49/50\n",
      "45000/45000 - 364s - loss: 0.3382 - accuracy: 0.8486 - val_loss: 0.4523 - val_accuracy: 0.7979\n",
      "Epoch 50/50\n",
      "45000/45000 - 363s - loss: 0.3384 - accuracy: 0.8484 - val_loss: 0.4546 - val_accuracy: 0.7967\n",
      "Training Complete\n"
     ]
    }
   ],
   "source": [
    "num_epochs = 50\n",
    "history = model.fit(training_sequences, training_labels, epochs=num_epochs, validation_data=(test_sequences, test_labels), verbose=2)\n",
    "\n",
    "print(\"Training Complete\")\n"
   ]
  },
  {
   "cell_type": "code",
   "execution_count": 63,
   "metadata": {
    "colab": {
     "base_uri": "https://localhost:8080/",
     "height": 606
    },
    "colab_type": "code",
    "id": "qxju4ItJKO8F",
    "outputId": "ceda0f25-7d17-453c-9497-171d350d067e"
   },
   "outputs": [
    {
     "data": {
      "text/plain": [
       "<Figure size 432x288 with 0 Axes>"
      ]
     },
     "execution_count": 63,
     "metadata": {
      "tags": []
     },
     "output_type": "execute_result"
    },
    {
     "data": {
      "image/png": "[encoded data removed]",
      "text/plain": [
       "<Figure size 432x288 with 1 Axes>"
      ]
     },
     "metadata": {
      "needs_background": "light",
      "tags": []
     },
     "output_type": "display_data"
    },
    {
     "data": {
      "image/png": "[encoded data removed]",
      "text/plain": [
       "<Figure size 432x288 with 1 Axes>"
      ]
     },
     "metadata": {
      "needs_background": "light",
      "tags": []
     },
     "output_type": "display_data"
    },
    {
     "data": {
      "text/plain": [
       "<Figure size 432x288 with 0 Axes>"
      ]
     },
     "metadata": {
      "tags": []
     },
     "output_type": "display_data"
    }
   ],
   "source": [
    "import matplotlib.image  as mpimg\n",
    "import matplotlib.pyplot as plt\n",
    "\n",
    "acc=history.history['accuracy']\n",
    "val_acc=history.history['val_accuracy']\n",
    "loss=history.history['loss']\n",
    "val_loss=history.history['val_loss']\n",
    "\n",
    "epochs=range(len(acc)) # Get number of epochs\n",
    "\n",
    "#------------------------------------------------\n",
    "# Plot training and validation accuracy per epoch\n",
    "#------------------------------------------------\n",
    "plt.plot(epochs, acc, 'r')\n",
    "plt.plot(epochs, val_acc, 'b')\n",
    "plt.title('Training and validation accuracy')\n",
    "plt.xlabel(\"Epochs\")\n",
    "plt.ylabel(\"Accuracy\")\n",
    "plt.legend([\"Accuracy\", \"Validation Accuracy\"])\n",
    "\n",
    "plt.figure()\n",
    "\n",
    "#------------------------------------------------\n",
    "# Plot training and validation loss per epoch\n",
    "#------------------------------------------------\n",
    "plt.plot(epochs, loss, 'r')\n",
    "plt.plot(epochs, val_loss, 'b')\n",
    "plt.title('Training and validation loss')\n",
    "plt.xlabel(\"Epochs\")\n",
    "plt.ylabel(\"Loss\")\n",
    "plt.legend([\"Loss\", \"Validation Loss\"])\n",
    "\n",
    "plt.figure()\n",
    "\n",
    "\n",
    "# Expected Output\n",
    "# A chart where the validation loss does not increase sharply!"
   ]
  },
  {
   "cell_type": "code",
   "execution_count": null,
   "metadata": {},
   "outputs": [],
   "source": []
  }
 ],
 "metadata": {
  "accelerator": "GPU",
  "colab": {
   "name": "NLP Course - Week 3 Exercise Question.ipynb",
   "provenance": [],
   "toc_visible": true
  },
  "kernelspec": {
   "display_name": "Python 3",
   "language": "python",
   "name": "python3"
  },
  "language_info": {
   "codemirror_mode": {
    "name": "ipython",
    "version": 3
   },
   "file_extension": ".py",
   "mimetype": "text/x-python",
   "name": "python",
   "nbconvert_exporter": "python",
   "pygments_lexer": "ipython3",
   "version": "3.6.9"
  }
 },
 "nbformat": 4,
 "nbformat_minor": 1
}
